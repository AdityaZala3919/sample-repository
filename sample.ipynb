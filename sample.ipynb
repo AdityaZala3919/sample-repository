{
 "cells": [
  {
   "cell_type": "markdown",
   "id": "fd206479",
   "metadata": {},
   "source": [
    "# Quickstart Notebook\n",
    "This notebook demonstrates basic Python code execution."
   ]
  },
  {
   "cell_type": "code",
   "execution_count": null,
   "id": "0d363e1c",
   "metadata": {},
   "outputs": [],
   "source": [
    "# Print a greeting\n",
    "print('Hello, Jupyter!')"
   ]
  },
  {
   "cell_type": "code",
   "execution_count": null,
   "id": "6d4ad419",
   "metadata": {},
   "outputs": [],
   "source": [
    "# Simple math\n",
    "result = 2 + 2\n",
    "print('2 + 2 =', result)"
   ]
  }
 ],
 "metadata": {
  "language_info": {
   "name": "python"
  }
 },
 "nbformat": 4,
 "nbformat_minor": 5
}
